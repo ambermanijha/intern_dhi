{
  "nbformat": 4,
  "nbformat_minor": 0,
  "metadata": {
    "colab": {
      "provenance": []
    },
    "kernelspec": {
      "name": "python3",
      "display_name": "Python 3"
    },
    "language_info": {
      "name": "python"
    }
  },
  "cells": [
    {
      "cell_type": "code",
      "execution_count": null,
      "metadata": {
        "colab": {
          "base_uri": "https://localhost:8080/"
        },
        "id": "PCQGQlwR_lZE",
        "outputId": "07c0cc5c-03e4-44af-abb9-ead5182214b3"
      },
      "outputs": [
        {
          "output_type": "stream",
          "name": "stdout",
          "text": [
            "Requirement already satisfied: requests in /usr/local/lib/python3.10/dist-packages (2.32.3)\n",
            "Requirement already satisfied: pandas in /usr/local/lib/python3.10/dist-packages (2.1.4)\n",
            "Requirement already satisfied: matplotlib in /usr/local/lib/python3.10/dist-packages (3.7.1)\n",
            "Requirement already satisfied: charset-normalizer<4,>=2 in /usr/local/lib/python3.10/dist-packages (from requests) (3.3.2)\n",
            "Requirement already satisfied: idna<4,>=2.5 in /usr/local/lib/python3.10/dist-packages (from requests) (3.10)\n",
            "Requirement already satisfied: urllib3<3,>=1.21.1 in /usr/local/lib/python3.10/dist-packages (from requests) (2.2.3)\n",
            "Requirement already satisfied: certifi>=2017.4.17 in /usr/local/lib/python3.10/dist-packages (from requests) (2024.8.30)\n",
            "Requirement already satisfied: numpy<2,>=1.22.4 in /usr/local/lib/python3.10/dist-packages (from pandas) (1.26.4)\n",
            "Requirement already satisfied: python-dateutil>=2.8.2 in /usr/local/lib/python3.10/dist-packages (from pandas) (2.8.2)\n",
            "Requirement already satisfied: pytz>=2020.1 in /usr/local/lib/python3.10/dist-packages (from pandas) (2024.2)\n",
            "Requirement already satisfied: tzdata>=2022.1 in /usr/local/lib/python3.10/dist-packages (from pandas) (2024.1)\n",
            "Requirement already satisfied: contourpy>=1.0.1 in /usr/local/lib/python3.10/dist-packages (from matplotlib) (1.3.0)\n",
            "Requirement already satisfied: cycler>=0.10 in /usr/local/lib/python3.10/dist-packages (from matplotlib) (0.12.1)\n",
            "Requirement already satisfied: fonttools>=4.22.0 in /usr/local/lib/python3.10/dist-packages (from matplotlib) (4.53.1)\n",
            "Requirement already satisfied: kiwisolver>=1.0.1 in /usr/local/lib/python3.10/dist-packages (from matplotlib) (1.4.7)\n",
            "Requirement already satisfied: packaging>=20.0 in /usr/local/lib/python3.10/dist-packages (from matplotlib) (24.1)\n",
            "Requirement already satisfied: pillow>=6.2.0 in /usr/local/lib/python3.10/dist-packages (from matplotlib) (10.4.0)\n",
            "Requirement already satisfied: pyparsing>=2.3.1 in /usr/local/lib/python3.10/dist-packages (from matplotlib) (3.1.4)\n",
            "Requirement already satisfied: six>=1.5 in /usr/local/lib/python3.10/dist-packages (from python-dateutil>=2.8.2->pandas) (1.16.0)\n"
          ]
        }
      ],
      "source": [
        "!pip install requests pandas matplotlib"
      ]
    },
    {
      "cell_type": "code",
      "source": [
        "!pip install requests"
      ],
      "metadata": {
        "colab": {
          "base_uri": "https://localhost:8080/"
        },
        "id": "ma_KgoPtAEgS",
        "outputId": "a223bd4e-8115-4c0c-c3e9-6fc4b1df7278"
      },
      "execution_count": null,
      "outputs": [
        {
          "output_type": "stream",
          "name": "stdout",
          "text": [
            "Requirement already satisfied: requests in /usr/local/lib/python3.10/dist-packages (2.32.3)\n",
            "Requirement already satisfied: charset-normalizer<4,>=2 in /usr/local/lib/python3.10/dist-packages (from requests) (3.3.2)\n",
            "Requirement already satisfied: idna<4,>=2.5 in /usr/local/lib/python3.10/dist-packages (from requests) (3.10)\n",
            "Requirement already satisfied: urllib3<3,>=1.21.1 in /usr/local/lib/python3.10/dist-packages (from requests) (2.2.3)\n",
            "Requirement already satisfied: certifi>=2017.4.17 in /usr/local/lib/python3.10/dist-packages (from requests) (2024.8.30)\n"
          ]
        }
      ]
    },
    {
      "cell_type": "code",
      "source": [
        "# Connect to Amazon Ads API\n",
        "\n",
        "import requests\n",
        "import json\n",
        "\n",
        "# Define your API credentials\n",
        "client_id = 'YOUR_CLIENT_ID'\n",
        "client_secret = 'YOUR_CLIENT_SECRET'\n",
        "refresh_token = 'YOUR_REFRESH_TOKEN'\n",
        "profile_id = 'YOUR_PROFILE_ID'  # Amazon Advertising profile ID\n",
        "\n",
        "# Function to get access token\n",
        "def get_access_token(client_id, client_secret, refresh_token):\n",
        "    url = \"https://api.amazon.com/auth/o2/token\"\n",
        "    payload = {\n",
        "        'grant_type': 'refresh_token',\n",
        "        'refresh_token': refresh_token,\n",
        "        'client_id':amzn1.application-oa2-client.64825a3ddf7b4ea3bd5508830526f3e5\n",
        "        'client_secret': amzn1.oa2-cs.v1.198e0244fd3c2a53808c18c547b18b05b898fd31e6b8bdc3872ccabf86f68145\n",
        "    }\n",
        "    response = requests.post(url, data=payload)\n",
        "    return response.json()['access_token']\n",
        "\n",
        "# Use the access token to interact with Amazon Ads API\n",
        "access_token = get_access_token(client_id, client_secret, refresh_token)\n",
        "headers = {\n",
        "    'Authorization': f\"Bearer {access_token}\",\n",
        "    'Content-Type': 'application/json',\n",
        "    'Amazon-Advertising-API-Scope': profile_id\n",
        "}\n",
        "\n",
        "if response.status_code == 200:\n",
        "    access_token = response.json().get('access_token')\n",
        "    print(f\"Access Token: {access_token}\")\n",
        "else:\n",
        "    print(\"Error fetching access token:\", response.text)\n"
      ],
      "metadata": {
        "colab": {
          "base_uri": "https://localhost:8080/",
          "height": 332
        },
        "id": "kibQkEv2AJWC",
        "outputId": "e90b74ee-1897-4056-df02-8887e103268e"
      },
      "execution_count": null,
      "outputs": [
        {
          "output_type": "error",
          "ename": "KeyError",
          "evalue": "'access_token'",
          "traceback": [
            "\u001b[0;31m---------------------------------------------------------------------------\u001b[0m",
            "\u001b[0;31mKeyError\u001b[0m                                  Traceback (most recent call last)",
            "\u001b[0;32m<ipython-input-5-4337c9ba07da>\u001b[0m in \u001b[0;36m<cell line: 25>\u001b[0;34m()\u001b[0m\n\u001b[1;32m     23\u001b[0m \u001b[0;34m\u001b[0m\u001b[0m\n\u001b[1;32m     24\u001b[0m \u001b[0;31m# Use the access token to interact with Amazon Ads API\u001b[0m\u001b[0;34m\u001b[0m\u001b[0;34m\u001b[0m\u001b[0m\n\u001b[0;32m---> 25\u001b[0;31m \u001b[0maccess_token\u001b[0m \u001b[0;34m=\u001b[0m \u001b[0mget_access_token\u001b[0m\u001b[0;34m(\u001b[0m\u001b[0mclient_id\u001b[0m\u001b[0;34m,\u001b[0m \u001b[0mclient_secret\u001b[0m\u001b[0;34m,\u001b[0m \u001b[0mrefresh_token\u001b[0m\u001b[0;34m)\u001b[0m\u001b[0;34m\u001b[0m\u001b[0;34m\u001b[0m\u001b[0m\n\u001b[0m\u001b[1;32m     26\u001b[0m headers = {\n\u001b[1;32m     27\u001b[0m     \u001b[0;34m'Authorization'\u001b[0m\u001b[0;34m:\u001b[0m \u001b[0;34mf\"Bearer {access_token}\"\u001b[0m\u001b[0;34m,\u001b[0m\u001b[0;34m\u001b[0m\u001b[0;34m\u001b[0m\u001b[0m\n",
            "\u001b[0;32m<ipython-input-5-4337c9ba07da>\u001b[0m in \u001b[0;36mget_access_token\u001b[0;34m(client_id, client_secret, refresh_token)\u001b[0m\n\u001b[1;32m     20\u001b[0m     }\n\u001b[1;32m     21\u001b[0m     \u001b[0mresponse\u001b[0m \u001b[0;34m=\u001b[0m \u001b[0mrequests\u001b[0m\u001b[0;34m.\u001b[0m\u001b[0mpost\u001b[0m\u001b[0;34m(\u001b[0m\u001b[0murl\u001b[0m\u001b[0;34m,\u001b[0m \u001b[0mdata\u001b[0m\u001b[0;34m=\u001b[0m\u001b[0mpayload\u001b[0m\u001b[0;34m)\u001b[0m\u001b[0;34m\u001b[0m\u001b[0;34m\u001b[0m\u001b[0m\n\u001b[0;32m---> 22\u001b[0;31m     \u001b[0;32mreturn\u001b[0m \u001b[0mresponse\u001b[0m\u001b[0;34m.\u001b[0m\u001b[0mjson\u001b[0m\u001b[0;34m(\u001b[0m\u001b[0;34m)\u001b[0m\u001b[0;34m[\u001b[0m\u001b[0;34m'access_token'\u001b[0m\u001b[0;34m]\u001b[0m\u001b[0;34m\u001b[0m\u001b[0;34m\u001b[0m\u001b[0m\n\u001b[0m\u001b[1;32m     23\u001b[0m \u001b[0;34m\u001b[0m\u001b[0m\n\u001b[1;32m     24\u001b[0m \u001b[0;31m# Use the access token to interact with Amazon Ads API\u001b[0m\u001b[0;34m\u001b[0m\u001b[0;34m\u001b[0m\u001b[0m\n",
            "\u001b[0;31mKeyError\u001b[0m: 'access_token'"
          ]
        }
      ]
    },
    {
      "cell_type": "code",
      "source": [
        "# Fetch Keyword Performance Data\n",
        "def get_keyword_performance(headers, profile_id):\n",
        "    url = f'https://advertising-api.amazon.com/v2/sp/keywords'\n",
        "    response = requests.get(url, headers=headers)\n",
        "    return response.json()\n",
        "\n",
        "# Fetch keyword performance\n",
        "keyword_performance = get_keyword_performance(headers, profile_id)\n"
      ],
      "metadata": {
        "id": "ZQWn3YDcB_vR"
      },
      "execution_count": null,
      "outputs": []
    },
    {
      "cell_type": "code",
      "source": [
        "#Analyze Keyword Performance\n",
        "import pandas as pd\n",
        "\n",
        "# Create a dataframe from keyword performance data\n",
        "df = pd.DataFrame(keyword_performance)\n",
        "\n",
        "# Filter unproductive keywords (customize this based on performance metrics)\n",
        "# Example: Low click-through-rate or high cost per conversion\n",
        "unproductive_keywords = df[(df['clicks'] < 10) & (df['cost'] / df['conversions'] > 10)]\n",
        "productive_keywords = df[(df['clicks'] >= 10) & (df['cost'] / df['conversions'] <= 10)]\n",
        "\n",
        "# Output productive/unproductive keywords\n",
        "print(\"Unproductive Keywords:\")\n",
        "print(unproductive_keywords)\n",
        "\n",
        "print(\"\\nProductive Keywords:\")\n",
        "print(productive_keywords)"
      ],
      "metadata": {
        "id": "DjFzddVqAYG_"
      },
      "execution_count": null,
      "outputs": []
    },
    {
      "cell_type": "code",
      "source": [
        "#Adjust Bids\n",
        "def update_bid(keyword_id, new_bid, headers):\n",
        "    url = f\"https://advertising-api.amazon.com/v2/sp/keywords/{keyword_id}\"\n",
        "    payload = {\n",
        "        'state': 'paused' if new_bid == 0 else 'enabled',\n",
        "        'bid': new_bid\n",
        "    }\n",
        "    response = requests.put(url, headers=headers, json=payload)\n",
        "    return response.status_code\n",
        "\n",
        "# Adjust bids for unproductive keywords (e.g., stop them)\n",
        "for idx, row in unproductive_keywords.iterrows():\n",
        "    update_bid(row['keywordId'], 0, headers)  # Pausing these bids\n",
        "\n",
        "# Optionally, increase bids for productive keywords\n",
        "for idx, row in productive_keywords.iterrows():\n",
        "    new_bid = row['bid'] * 1.1  # Example: increase bid by 10%\n",
        "    update_bid(row['keywordId'], new_bid, headers)\n"
      ],
      "metadata": {
        "id": "V3CwHpSHCcFf"
      },
      "execution_count": null,
      "outputs": []
    },
    {
      "cell_type": "code",
      "source": [
        "#Automate the Process\n",
        "!pip install schedule\n",
        "\n",
        "import schedule\n",
        "import time\n",
        "\n",
        "# Function to perform bidding strategy\n",
        "def run_bidding_strategy():\n",
        "    access_token = get_access_token(client_id, client_secret, refresh_token)\n",
        "    headers = {\n",
        "        'Authorization': f\"Bearer {access_token}\",\n",
        "        'Content-Type': 'application/json',\n",
        "        'Amazon-Advertising-API-Scope': profile_id\n",
        "    }\n",
        "    keyword_performance = get_keyword_performance(headers, profile_id)\n",
        "    # Perform analysis and bid adjustments here (as shown above)\n",
        "\n",
        "# Schedule the bidding strategy to run every hour\n",
        "schedule.every().hour.do(run_bidding_strategy)\n",
        "\n",
        "# Keep the script running to ensure scheduled tasks are executed\n",
        "while True:\n",
        "    schedule.run_pending()\n",
        "    time.sleep(1)\n"
      ],
      "metadata": {
        "colab": {
          "base_uri": "https://localhost:8080/",
          "height": 263
        },
        "id": "tcBY_O7QCmnU",
        "outputId": "2b0206a3-3c51-48d8-a319-8a89095e986a"
      },
      "execution_count": null,
      "outputs": [
        {
          "metadata": {
            "tags": null
          },
          "name": "stdout",
          "output_type": "stream",
          "text": [
            "Collecting schedule\n",
            "  Downloading schedule-1.2.2-py3-none-any.whl.metadata (3.8 kB)\n",
            "Downloading schedule-1.2.2-py3-none-any.whl (12 kB)\n",
            "Installing collected packages: schedule\n",
            "Successfully installed schedule-1.2.2\n"
          ]
        },
        {
          "output_type": "error",
          "ename": "KeyboardInterrupt",
          "evalue": "",
          "traceback": [
            "\u001b[0;31m---------------------------------------------------------------------------\u001b[0m",
            "\u001b[0;31mKeyboardInterrupt\u001b[0m                         Traceback (most recent call last)",
            "\u001b[0;32m<ipython-input-6-412c193c92db>\u001b[0m in \u001b[0;36m<cell line: 22>\u001b[0;34m()\u001b[0m\n\u001b[1;32m     22\u001b[0m \u001b[0;32mwhile\u001b[0m \u001b[0;32mTrue\u001b[0m\u001b[0;34m:\u001b[0m\u001b[0;34m\u001b[0m\u001b[0;34m\u001b[0m\u001b[0m\n\u001b[1;32m     23\u001b[0m     \u001b[0mschedule\u001b[0m\u001b[0;34m.\u001b[0m\u001b[0mrun_pending\u001b[0m\u001b[0;34m(\u001b[0m\u001b[0;34m)\u001b[0m\u001b[0;34m\u001b[0m\u001b[0;34m\u001b[0m\u001b[0m\n\u001b[0;32m---> 24\u001b[0;31m     \u001b[0mtime\u001b[0m\u001b[0;34m.\u001b[0m\u001b[0msleep\u001b[0m\u001b[0;34m(\u001b[0m\u001b[0;36m1\u001b[0m\u001b[0;34m)\u001b[0m\u001b[0;34m\u001b[0m\u001b[0;34m\u001b[0m\u001b[0m\n\u001b[0m",
            "\u001b[0;31mKeyboardInterrupt\u001b[0m: "
          ]
        }
      ]
    }
  ]
}